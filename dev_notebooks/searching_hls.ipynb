{
 "cells": [
  {
   "cell_type": "markdown",
   "metadata": {},
   "source": [
    "## To datagen"
   ]
  },
  {
   "cell_type": "code",
   "execution_count": 3,
   "metadata": {},
   "outputs": [
    {
     "ename": "ModuleNotFoundError",
     "evalue": "No module named 'netCDF4'",
     "output_type": "error",
     "traceback": [
      "\u001b[0;31m---------------------------------------------------------------------------\u001b[0m",
      "\u001b[0;31mModuleNotFoundError\u001b[0m                       Traceback (most recent call last)",
      "\u001b[1;32m/storage/repos/ssc_model_deployment/dev_notebooks/searching_hls.ipynb Cell 2\u001b[0m line \u001b[0;36m1\n\u001b[1;32m     <a href='vscode-notebook-cell://ssh-remote%2Baws_dev/storage/repos/ssc_model_deployment/dev_notebooks/searching_hls.ipynb#X15sdnNjb2RlLXJlbW90ZQ%3D%3D?line=12'>13</a>\u001b[0m \u001b[39mfrom\u001b[39;00m \u001b[39mshapely\u001b[39;00m\u001b[39m.\u001b[39;00m\u001b[39mgeometry\u001b[39;00m \u001b[39mimport\u001b[39;00m Point, LineString, shape\n\u001b[1;32m     <a href='vscode-notebook-cell://ssh-remote%2Baws_dev/storage/repos/ssc_model_deployment/dev_notebooks/searching_hls.ipynb#X15sdnNjb2RlLXJlbW90ZQ%3D%3D?line=13'>14</a>\u001b[0m \u001b[39mfrom\u001b[39;00m \u001b[39mitertools\u001b[39;00m \u001b[39mimport\u001b[39;00m repeat\n\u001b[0;32m---> <a href='vscode-notebook-cell://ssh-remote%2Baws_dev/storage/repos/ssc_model_deployment/dev_notebooks/searching_hls.ipynb#X15sdnNjb2RlLXJlbW90ZQ%3D%3D?line=14'>15</a>\u001b[0m \u001b[39mimport\u001b[39;00m \u001b[39mnetCDF4\u001b[39;00m \u001b[39mas\u001b[39;00m \u001b[39mncf\u001b[39;00m\n\u001b[1;32m     <a href='vscode-notebook-cell://ssh-remote%2Baws_dev/storage/repos/ssc_model_deployment/dev_notebooks/searching_hls.ipynb#X15sdnNjb2RlLXJlbW90ZQ%3D%3D?line=15'>16</a>\u001b[0m \u001b[39mfrom\u001b[39;00m \u001b[39mitertools\u001b[39;00m \u001b[39mimport\u001b[39;00m chain\n\u001b[1;32m     <a href='vscode-notebook-cell://ssh-remote%2Baws_dev/storage/repos/ssc_model_deployment/dev_notebooks/searching_hls.ipynb#X15sdnNjb2RlLXJlbW90ZQ%3D%3D?line=17'>18</a>\u001b[0m \u001b[39m# Local importse\u001b[39;00m\n",
      "\u001b[0;31mModuleNotFoundError\u001b[0m: No module named 'netCDF4'"
     ]
    }
   ],
   "source": []
  },
  {
   "cell_type": "code",
   "execution_count": 62,
   "metadata": {},
   "outputs": [
    {
     "name": "stdout",
     "output_type": "stream",
     "text": [
      "/media/confluence/work/repos/confluence/ssc_model_training_data_generation/static_file_generation/modify_map/final_out_tile_key/af_sword_v15_tilemap.json\n"
     ]
    }
   ],
   "source": [
    "import json\n",
    "import numpy as np\n",
    "from pystac_client import Client  \n",
    "from shapely.geometry import Polygon, LineString, MultiPoint, Point\n",
    "\n",
    "fp = '/media/confluence/work/repos/confluence/ssc_model_training_data_generation/static_file_generation/modify_map/final_out_tile_key/af_sword_v15_tilemap.json'\n",
    "\n",
    "print(fp)\n",
    "with open(fp) as f:\n",
    "    d = json.load(f)"
   ]
  },
  {
   "cell_type": "code",
   "execution_count": 63,
   "metadata": {},
   "outputs": [
    {
     "ename": "APIError",
     "evalue": "",
     "output_type": "error",
     "traceback": [
      "\u001b[0;31m---------------------------------------------------------------------------\u001b[0m",
      "\u001b[0;31mAPIError\u001b[0m                                  Traceback (most recent call last)",
      "\u001b[0;32m/tmp/ipykernel_844159/2298628377.py\u001b[0m in \u001b[0;36m<module>\u001b[0;34m\u001b[0m\n\u001b[1;32m      1\u001b[0m \u001b[0mSTAC_URL\u001b[0m \u001b[0;34m=\u001b[0m \u001b[0;34m'https://cmr.earthdata.nasa.gov/stac'\u001b[0m\u001b[0;34m\u001b[0m\u001b[0;34m\u001b[0m\u001b[0m\n\u001b[0;32m----> 2\u001b[0;31m \u001b[0mcatalog\u001b[0m \u001b[0;34m=\u001b[0m \u001b[0mClient\u001b[0m\u001b[0;34m.\u001b[0m\u001b[0mopen\u001b[0m\u001b[0;34m(\u001b[0m\u001b[0;34mf'{STAC_URL}/LPCLOUD/'\u001b[0m\u001b[0;34m)\u001b[0m\u001b[0;34m\u001b[0m\u001b[0;34m\u001b[0m\u001b[0m\n\u001b[0m",
      "\u001b[0;32m~/anaconda3/envs/hlstutorial/lib/python3.7/site-packages/pystac_client/client.py\u001b[0m in \u001b[0;36mopen\u001b[0;34m(cls, url, headers, parameters, ignore_conformance, modifier)\u001b[0m\n\u001b[1;32m    135\u001b[0m         \"\"\"\n\u001b[1;32m    136\u001b[0m         client: Client = cls.from_file(\n\u001b[0;32m--> 137\u001b[0;31m             \u001b[0murl\u001b[0m\u001b[0;34m,\u001b[0m \u001b[0mheaders\u001b[0m\u001b[0;34m=\u001b[0m\u001b[0mheaders\u001b[0m\u001b[0;34m,\u001b[0m \u001b[0mparameters\u001b[0m\u001b[0;34m=\u001b[0m\u001b[0mparameters\u001b[0m\u001b[0;34m,\u001b[0m \u001b[0mmodifier\u001b[0m\u001b[0;34m=\u001b[0m\u001b[0mmodifier\u001b[0m\u001b[0;34m\u001b[0m\u001b[0;34m\u001b[0m\u001b[0m\n\u001b[0m\u001b[1;32m    138\u001b[0m         )\n\u001b[1;32m    139\u001b[0m         \u001b[0msearch_link\u001b[0m \u001b[0;34m=\u001b[0m \u001b[0mclient\u001b[0m\u001b[0;34m.\u001b[0m\u001b[0mget_search_link\u001b[0m\u001b[0;34m(\u001b[0m\u001b[0;34m)\u001b[0m\u001b[0;34m\u001b[0m\u001b[0;34m\u001b[0m\u001b[0m\n",
      "\u001b[0;32m~/anaconda3/envs/hlstutorial/lib/python3.7/site-packages/pystac_client/client.py\u001b[0m in \u001b[0;36mfrom_file\u001b[0;34m(cls, href, stac_io, headers, parameters, modifier)\u001b[0m\n\u001b[1;32m    172\u001b[0m             \u001b[0mstac_io\u001b[0m \u001b[0;34m=\u001b[0m \u001b[0mStacApiIO\u001b[0m\u001b[0;34m(\u001b[0m\u001b[0mheaders\u001b[0m\u001b[0;34m=\u001b[0m\u001b[0mheaders\u001b[0m\u001b[0;34m,\u001b[0m \u001b[0mparameters\u001b[0m\u001b[0;34m=\u001b[0m\u001b[0mparameters\u001b[0m\u001b[0;34m)\u001b[0m\u001b[0;34m\u001b[0m\u001b[0;34m\u001b[0m\u001b[0m\n\u001b[1;32m    173\u001b[0m \u001b[0;34m\u001b[0m\u001b[0m\n\u001b[0;32m--> 174\u001b[0;31m         \u001b[0mclient\u001b[0m\u001b[0;34m:\u001b[0m \u001b[0mClient\u001b[0m \u001b[0;34m=\u001b[0m \u001b[0msuper\u001b[0m\u001b[0;34m(\u001b[0m\u001b[0;34m)\u001b[0m\u001b[0;34m.\u001b[0m\u001b[0mfrom_file\u001b[0m\u001b[0;34m(\u001b[0m\u001b[0mhref\u001b[0m\u001b[0;34m,\u001b[0m \u001b[0mstac_io\u001b[0m\u001b[0;34m)\u001b[0m  \u001b[0;31m# type: ignore\u001b[0m\u001b[0;34m\u001b[0m\u001b[0;34m\u001b[0m\u001b[0m\n\u001b[0m\u001b[1;32m    175\u001b[0m \u001b[0;34m\u001b[0m\u001b[0m\n\u001b[1;32m    176\u001b[0m         client._stac_io._conformance = client.extra_fields.get(  # type: ignore\n",
      "\u001b[0;32m~/anaconda3/envs/hlstutorial/lib/python3.7/site-packages/pystac/catalog.py\u001b[0m in \u001b[0;36mfrom_file\u001b[0;34m(cls, href, stac_io)\u001b[0m\n\u001b[1;32m   1059\u001b[0m             \u001b[0mstac_io\u001b[0m \u001b[0;34m=\u001b[0m \u001b[0mpystac\u001b[0m\u001b[0;34m.\u001b[0m\u001b[0mStacIO\u001b[0m\u001b[0;34m.\u001b[0m\u001b[0mdefault\u001b[0m\u001b[0;34m(\u001b[0m\u001b[0;34m)\u001b[0m\u001b[0;34m\u001b[0m\u001b[0;34m\u001b[0m\u001b[0m\n\u001b[1;32m   1060\u001b[0m \u001b[0;34m\u001b[0m\u001b[0m\n\u001b[0;32m-> 1061\u001b[0;31m         \u001b[0mresult\u001b[0m \u001b[0;34m=\u001b[0m \u001b[0msuper\u001b[0m\u001b[0;34m(\u001b[0m\u001b[0;34m)\u001b[0m\u001b[0;34m.\u001b[0m\u001b[0mfrom_file\u001b[0m\u001b[0;34m(\u001b[0m\u001b[0mhref\u001b[0m\u001b[0;34m,\u001b[0m \u001b[0mstac_io\u001b[0m\u001b[0;34m)\u001b[0m\u001b[0;34m\u001b[0m\u001b[0;34m\u001b[0m\u001b[0m\n\u001b[0m\u001b[1;32m   1062\u001b[0m         \u001b[0;32mif\u001b[0m \u001b[0;32mnot\u001b[0m \u001b[0misinstance\u001b[0m\u001b[0;34m(\u001b[0m\u001b[0mresult\u001b[0m\u001b[0;34m,\u001b[0m \u001b[0mCatalog\u001b[0m\u001b[0;34m)\u001b[0m\u001b[0;34m:\u001b[0m\u001b[0;34m\u001b[0m\u001b[0;34m\u001b[0m\u001b[0m\n\u001b[1;32m   1063\u001b[0m             \u001b[0;32mraise\u001b[0m \u001b[0mpystac\u001b[0m\u001b[0;34m.\u001b[0m\u001b[0mSTACTypeError\u001b[0m\u001b[0;34m(\u001b[0m\u001b[0;34mf\"{result} is not a {Catalog}.\"\u001b[0m\u001b[0;34m)\u001b[0m\u001b[0;34m\u001b[0m\u001b[0;34m\u001b[0m\u001b[0m\n",
      "\u001b[0;32m~/anaconda3/envs/hlstutorial/lib/python3.7/site-packages/pystac/stac_object.py\u001b[0m in \u001b[0;36mfrom_file\u001b[0;34m(cls, href, stac_io)\u001b[0m\n\u001b[1;32m    508\u001b[0m             \u001b[0mhref\u001b[0m \u001b[0;34m=\u001b[0m \u001b[0mmake_absolute_href\u001b[0m\u001b[0;34m(\u001b[0m\u001b[0mhref\u001b[0m\u001b[0;34m)\u001b[0m\u001b[0;34m\u001b[0m\u001b[0;34m\u001b[0m\u001b[0m\n\u001b[1;32m    509\u001b[0m \u001b[0;34m\u001b[0m\u001b[0m\n\u001b[0;32m--> 510\u001b[0;31m         \u001b[0md\u001b[0m \u001b[0;34m=\u001b[0m \u001b[0mstac_io\u001b[0m\u001b[0;34m.\u001b[0m\u001b[0mread_json\u001b[0m\u001b[0;34m(\u001b[0m\u001b[0mhref\u001b[0m\u001b[0;34m)\u001b[0m\u001b[0;34m\u001b[0m\u001b[0;34m\u001b[0m\u001b[0m\n\u001b[0m\u001b[1;32m    511\u001b[0m         \u001b[0mo\u001b[0m \u001b[0;34m=\u001b[0m \u001b[0mcls\u001b[0m\u001b[0;34m.\u001b[0m\u001b[0mfrom_dict\u001b[0m\u001b[0;34m(\u001b[0m\u001b[0md\u001b[0m\u001b[0;34m,\u001b[0m \u001b[0mhref\u001b[0m\u001b[0;34m=\u001b[0m\u001b[0mhref\u001b[0m\u001b[0;34m,\u001b[0m \u001b[0mmigrate\u001b[0m\u001b[0;34m=\u001b[0m\u001b[0;32mTrue\u001b[0m\u001b[0;34m,\u001b[0m \u001b[0mpreserve_dict\u001b[0m\u001b[0;34m=\u001b[0m\u001b[0;32mFalse\u001b[0m\u001b[0;34m)\u001b[0m\u001b[0;34m\u001b[0m\u001b[0;34m\u001b[0m\u001b[0m\n\u001b[1;32m    512\u001b[0m \u001b[0;34m\u001b[0m\u001b[0m\n",
      "\u001b[0;32m~/anaconda3/envs/hlstutorial/lib/python3.7/site-packages/pystac/stac_io.py\u001b[0m in \u001b[0;36mread_json\u001b[0;34m(self, source, *args, **kwargs)\u001b[0m\n\u001b[1;32m    196\u001b[0m             \u001b[0mgiven\u001b[0m \u001b[0msource\u001b[0m\u001b[0;34m.\u001b[0m\u001b[0;34m\u001b[0m\u001b[0;34m\u001b[0m\u001b[0m\n\u001b[1;32m    197\u001b[0m         \"\"\"\n\u001b[0;32m--> 198\u001b[0;31m         \u001b[0mtxt\u001b[0m \u001b[0;34m=\u001b[0m \u001b[0mself\u001b[0m\u001b[0;34m.\u001b[0m\u001b[0mread_text\u001b[0m\u001b[0;34m(\u001b[0m\u001b[0msource\u001b[0m\u001b[0;34m,\u001b[0m \u001b[0;34m*\u001b[0m\u001b[0margs\u001b[0m\u001b[0;34m,\u001b[0m \u001b[0;34m**\u001b[0m\u001b[0mkwargs\u001b[0m\u001b[0;34m)\u001b[0m\u001b[0;34m\u001b[0m\u001b[0;34m\u001b[0m\u001b[0m\n\u001b[0m\u001b[1;32m    199\u001b[0m         \u001b[0;32mreturn\u001b[0m \u001b[0mself\u001b[0m\u001b[0;34m.\u001b[0m\u001b[0mjson_loads\u001b[0m\u001b[0;34m(\u001b[0m\u001b[0mtxt\u001b[0m\u001b[0;34m)\u001b[0m\u001b[0;34m\u001b[0m\u001b[0;34m\u001b[0m\u001b[0m\n\u001b[1;32m    200\u001b[0m \u001b[0;34m\u001b[0m\u001b[0m\n",
      "\u001b[0;32m~/anaconda3/envs/hlstutorial/lib/python3.7/site-packages/pystac_client/stac_api_io.py\u001b[0m in \u001b[0;36mread_text\u001b[0;34m(self, source, *args, **kwargs)\u001b[0m\n\u001b[1;32m     95\u001b[0m             \u001b[0mhref\u001b[0m \u001b[0;34m=\u001b[0m \u001b[0mstr\u001b[0m\u001b[0;34m(\u001b[0m\u001b[0msource\u001b[0m\u001b[0;34m)\u001b[0m\u001b[0;34m\u001b[0m\u001b[0;34m\u001b[0m\u001b[0m\n\u001b[1;32m     96\u001b[0m             \u001b[0;32mif\u001b[0m \u001b[0mbool\u001b[0m\u001b[0;34m(\u001b[0m\u001b[0murlparse\u001b[0m\u001b[0;34m(\u001b[0m\u001b[0mhref\u001b[0m\u001b[0;34m)\u001b[0m\u001b[0;34m.\u001b[0m\u001b[0mscheme\u001b[0m\u001b[0;34m)\u001b[0m\u001b[0;34m:\u001b[0m\u001b[0;34m\u001b[0m\u001b[0;34m\u001b[0m\u001b[0m\n\u001b[0;32m---> 97\u001b[0;31m                 \u001b[0;32mreturn\u001b[0m \u001b[0mself\u001b[0m\u001b[0;34m.\u001b[0m\u001b[0mrequest\u001b[0m\u001b[0;34m(\u001b[0m\u001b[0mhref\u001b[0m\u001b[0;34m,\u001b[0m \u001b[0;34m*\u001b[0m\u001b[0margs\u001b[0m\u001b[0;34m,\u001b[0m \u001b[0;34m**\u001b[0m\u001b[0mkwargs\u001b[0m\u001b[0;34m)\u001b[0m\u001b[0;34m\u001b[0m\u001b[0;34m\u001b[0m\u001b[0m\n\u001b[0m\u001b[1;32m     98\u001b[0m             \u001b[0;32melse\u001b[0m\u001b[0;34m:\u001b[0m\u001b[0;34m\u001b[0m\u001b[0;34m\u001b[0m\u001b[0m\n\u001b[1;32m     99\u001b[0m                 \u001b[0;32mwith\u001b[0m \u001b[0mopen\u001b[0m\u001b[0;34m(\u001b[0m\u001b[0mhref\u001b[0m\u001b[0;34m)\u001b[0m \u001b[0;32mas\u001b[0m \u001b[0mf\u001b[0m\u001b[0;34m:\u001b[0m\u001b[0;34m\u001b[0m\u001b[0;34m\u001b[0m\u001b[0m\n",
      "\u001b[0;32m~/anaconda3/envs/hlstutorial/lib/python3.7/site-packages/pystac_client/stac_api_io.py\u001b[0m in \u001b[0;36mrequest\u001b[0;34m(self, href, method, headers, parameters)\u001b[0m\n\u001b[1;32m    142\u001b[0m             \u001b[0;32mraise\u001b[0m \u001b[0mAPIError\u001b[0m\u001b[0;34m(\u001b[0m\u001b[0mstr\u001b[0m\u001b[0;34m(\u001b[0m\u001b[0merr\u001b[0m\u001b[0;34m)\u001b[0m\u001b[0;34m)\u001b[0m\u001b[0;34m\u001b[0m\u001b[0;34m\u001b[0m\u001b[0m\n\u001b[1;32m    143\u001b[0m         \u001b[0;32mif\u001b[0m \u001b[0mresp\u001b[0m\u001b[0;34m.\u001b[0m\u001b[0mstatus_code\u001b[0m \u001b[0;34m!=\u001b[0m \u001b[0;36m200\u001b[0m\u001b[0;34m:\u001b[0m\u001b[0;34m\u001b[0m\u001b[0;34m\u001b[0m\u001b[0m\n\u001b[0;32m--> 144\u001b[0;31m             \u001b[0;32mraise\u001b[0m \u001b[0mAPIError\u001b[0m\u001b[0;34m.\u001b[0m\u001b[0mfrom_response\u001b[0m\u001b[0;34m(\u001b[0m\u001b[0mresp\u001b[0m\u001b[0;34m)\u001b[0m\u001b[0;34m\u001b[0m\u001b[0;34m\u001b[0m\u001b[0m\n\u001b[0m\u001b[1;32m    145\u001b[0m         \u001b[0;32mtry\u001b[0m\u001b[0;34m:\u001b[0m\u001b[0;34m\u001b[0m\u001b[0;34m\u001b[0m\u001b[0m\n\u001b[1;32m    146\u001b[0m             \u001b[0;32mreturn\u001b[0m \u001b[0mresp\u001b[0m\u001b[0;34m.\u001b[0m\u001b[0mcontent\u001b[0m\u001b[0;34m.\u001b[0m\u001b[0mdecode\u001b[0m\u001b[0;34m(\u001b[0m\u001b[0;34m\"utf-8\"\u001b[0m\u001b[0;34m)\u001b[0m\u001b[0;34m\u001b[0m\u001b[0;34m\u001b[0m\u001b[0m\n",
      "\u001b[0;31mAPIError\u001b[0m: "
     ]
    }
   ],
   "source": [
    "STAC_URL = 'https://cmr.earthdata.nasa.gov/stac'\n",
    "catalog = Client.open(f'{STAC_URL}/LPCLOUD/')"
   ]
  },
  {
   "cell_type": "code",
   "execution_count": null,
   "metadata": {},
   "outputs": [],
   "source": [
    "# for each tile, find an arbitrary point, pull tiles, predict on all points\n",
    "\n",
    "cont_tile_links = []\n",
    "for tile in list(d.keys()):\n",
    "    latlon_for_point = d[tile][list(d[tile].keys())[0]][list(d[tile][list(d[tile].keys())[0]].keys())[0]]['lat_lon']\n",
    "    point = Point([float(i) for i in latlon_for_point])\n",
    "    collections = ['HLSL30.v2.0', 'HLSS30.v2.0']\n",
    "\n",
    "    # point = Point('0.22797328583233897','45.02741982760003')\n",
    "    attempts = 0\n",
    "\n",
    "    while attempts <5:\n",
    "        try:\n",
    "            search = catalog.search(collections=collections, intersects = point, datetime='2018-01-02T00:00:00Z/2018-02-02T23:59:59Z')\n",
    "            # search = catalog.search(collections=collections, datetime='2018-01-02T00:00:00Z/2018-01-02T23:59:59Z')   # date_range = '2018-01-01T00:00:00Z/2018-02-01T23:59:59Z')\n",
    "\n",
    "            item_collection = search.item_collection()\n",
    "            for i in item_collection:\n",
    "                # print(i.assets)\n",
    "                for key in i.assets:\n",
    "                    if key.startswith('B'):\n",
    "                        # link = i.assets[key].href.replace('https://data.lpdaac.earthdatacloud.nasa.gov/', 's3://')\n",
    "                        link = i.assets[key].href\n",
    "\n",
    "                        # print(link)\n",
    "                        cont_tile_links.append(link)\n",
    "            break\n",
    "        except:\n",
    "            attempts += 1\n",
    "\n",
    "\n",
    "    \n",
    "    "
   ]
  },
  {
   "cell_type": "code",
   "execution_count": 68,
   "metadata": {},
   "outputs": [],
   "source": [
    "# a_filter = {\n",
    "#   \"filter-lang\": \"cql2-json\",\n",
    "#   \"filter\": {\n",
    "#     \"op\": \"like\",\n",
    "#     \"args\": [\n",
    "#       { \"property\": \"mission\" },\n",
    "#       \"sentinel%\"\n",
    "#     ]\n",
    "#   }\n",
    "# }\n",
    "# a_filter = {\n",
    "#     \"op\": \"like\",\n",
    "#     \"args\": [\n",
    "#       { \"property\": \"mission\" },\n",
    "#       \"sentinel%\"\n",
    "#     ]\n",
    "#   }\n",
    "# params = {\n",
    "#     'datetime':'2018-01-02T00:00:00Z/2018-02-02T23:59:59Z',\n",
    "#     'collections':['HLSL30.v2.0', 'HLSS30.v2.0'],\n",
    "#     'filter':{\n",
    "#         \"op\":\"like\",\n",
    "#         \"args\":[{\"proptery\":\"id\"},\"*T38JNT*\"]\n",
    "#     }\n",
    "# }\n",
    "params = {\n",
    "    'datetime':'2018-01-02T00:00:00Z/2018-01-12T23:59:59Z',\n",
    "    'collections':['HLSL30.v2.0', 'HLSS30.v2.0'],\n",
    "    'query':{\n",
    "        \"id\": {\n",
    "            \"startsWith\": \"HLS.S30.T54LYK\"\n",
    "        }\n",
    "    }\n",
    "}\n",
    "\n",
    "search = catalog.search(**params)"
   ]
  },
  {
   "cell_type": "code",
   "execution_count": 69,
   "metadata": {},
   "outputs": [],
   "source": [
    "item_collection = search.item_collection()"
   ]
  },
  {
   "cell_type": "code",
   "execution_count": 74,
   "metadata": {},
   "outputs": [
    {
     "data": {
      "text/plain": [
       "[<Item id=HLS.S30.T54LYK.2018002T003701.v2.0>,\n",
       " <Item id=HLS.S30.T54LZP.2018002T003701.v2.0>,\n",
       " <Item id=HLS.S30.T54KZG.2018002T003701.v2.0>,\n",
       " <Item id=HLS.S30.T55MCP.2018002T003701.v2.0>,\n",
       " <Item id=HLS.S30.T54LZL.2018002T003701.v2.0>,\n",
       " <Item id=HLS.S30.T54KYG.2018002T003701.v2.0>,\n",
       " <Item id=HLS.S30.T55LEL.2018002T003701.v2.0>,\n",
       " <Item id=HLS.S30.T54LYH.2018002T003701.v2.0>,\n",
       " <Item id=HLS.S30.T55LBE.2018002T003701.v2.0>,\n",
       " <Item id=HLS.S30.T55MGT.2018002T003701.v2.0>]"
      ]
     },
     "execution_count": 74,
     "metadata": {},
     "output_type": "execute_result"
    }
   ],
   "source": [
    "item_collection[10:20] # T38JNT"
   ]
  },
  {
   "cell_type": "code",
   "execution_count": null,
   "metadata": {},
   "outputs": [],
   "source": [
    "import os\n",
    "list(set([os.path.dirname(i) for i in cont_tile_links]))"
   ]
  },
  {
   "cell_type": "code",
   "execution_count": null,
   "metadata": {},
   "outputs": [],
   "source": [
    "len(list(set(cont_tile_links)))"
   ]
  },
  {
   "cell_type": "code",
   "execution_count": null,
   "metadata": {},
   "outputs": [],
   "source": [
    "\n",
    "with open('/media/confluence/work/repos/confluence/ssc_model_deployment/static_file_generation/modify_map/final_out_tile_key/sa_sword_v15_tilemap.json') as f:\n",
    "    sword_dict = json.load(f)"
   ]
  },
  {
   "cell_type": "code",
   "execution_count": null,
   "metadata": {},
   "outputs": [],
   "source": [
    "tiles = list(sword_dict.keys())\n",
    "\n",
    "print(fp)\n",
    "print('tiles:', len(tiles))\n",
    "print('time est:', len(tiles)*1.83/60)\n",
    "    "
   ]
  },
  {
   "cell_type": "code",
   "execution_count": null,
   "metadata": {},
   "outputs": [],
   "source": []
  }
 ],
 "metadata": {
  "kernelspec": {
   "display_name": "hls",
   "language": "python",
   "name": "python3"
  },
  "language_info": {
   "codemirror_mode": {
    "name": "ipython",
    "version": 3
   },
   "file_extension": ".py",
   "mimetype": "text/x-python",
   "name": "python",
   "nbconvert_exporter": "python",
   "pygments_lexer": "ipython3",
   "version": "3.9.18"
  },
  "orig_nbformat": 4,
  "vscode": {
   "interpreter": {
    "hash": "bf1bd4089eeb07bd42be11eba3fd4a0690dd46725eb70cb64f8b38092e2cddff"
   }
  }
 },
 "nbformat": 4,
 "nbformat_minor": 2
}
