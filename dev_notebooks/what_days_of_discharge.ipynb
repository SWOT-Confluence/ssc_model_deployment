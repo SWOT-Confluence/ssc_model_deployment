{
 "cells": [
  {
   "cell_type": "code",
   "execution_count": 48,
   "metadata": {},
   "outputs": [],
   "source": [
    "import netCDF4\n",
    "import os\n",
    "import glob\n",
    "import json"
   ]
  },
  {
   "cell_type": "code",
   "execution_count": 49,
   "metadata": {},
   "outputs": [],
   "source": [
    "moi_files = glob.glob('/storage/data/hpc/mnt/moi/*')\n",
    "qmap = {\n",
    "    'sic4dvar':'Q_da',\n",
    "    'sad': 'Qa',\n",
    "    'hivdi':'reach/Q',\n",
    "    'momma':'Q',\n",
    "    'geobam':'q/q',\n",
    "    'neobam':'q/q',\n",
    "    'metroman':'allq'}"
   ]
  },
  {
   "cell_type": "code",
   "execution_count": 50,
   "metadata": {},
   "outputs": [],
   "source": [
    "out_dict = {}\n",
    "\n",
    "for moi_fp in moi_files[:40]:\n",
    "    moi_data = netCDF4.Dataset(moi_fp)\n",
    "    rid = os.path.basename(moi_fp).split(\"_\")[0]\n",
    "    obs_fp  = f'/storage/data/hpc/mnt/input/swot/{rid}_SWOT.nc'\n",
    "    \n",
    "    # print(moi_data)\n",
    "    for moi_group in moi_data.groups:\n",
    "        try:\n",
    "            q = moi_data[moi_group]['q'][:]\n",
    "\n",
    "            if any(q):\n",
    "                out_dict[rid] = {}\n",
    "                out_dict[rid][moi_group] = {}\n",
    "                obs_fp  = f'/storage/data/hpc/mnt/input/swot/{os.path.basename(moi_fp).split(\"_\")[0]}_SWOT.nc'\n",
    "                obs_data = netCDF4.Dataset(obs_fp)\n",
    "                time = obs_data['reach']['time_str'][:]\n",
    "                all_decoded_times = []\n",
    "                for a_time in time:\n",
    "                    try:\n",
    "                        string = ''.join(byte.decode('utf-8') for byte in a_time)\n",
    "                        all_decoded_times.append(string)\n",
    "                    except:\n",
    "                        all_decoded_times.append('nan_time')\n",
    "                for index, one_q in enumerate(q):\n",
    "                    if one_q > 0:\n",
    "                        out_dict[rid][moi_group][all_decoded_times[index]] = one_q\n",
    "\n",
    "                \n",
    "                obs_data.close()\n",
    "        except Exception as e:\n",
    "            print(e)\n",
    "            # print(moi_group, 'fail')\n",
    "            pass\n",
    "\n",
    "    moi_data.close()\n",
    "with open('discharge_analysis.json', 'w') as f:\n",
    "    json.dump(out_dict, f)\n"
   ]
  },
  {
   "cell_type": "code",
   "execution_count": null,
   "metadata": {},
   "outputs": [],
   "source": []
  }
 ],
 "metadata": {
  "kernelspec": {
   "display_name": "ssc_deploy",
   "language": "python",
   "name": "python3"
  },
  "language_info": {
   "codemirror_mode": {
    "name": "ipython",
    "version": 3
   },
   "file_extension": ".py",
   "mimetype": "text/x-python",
   "name": "python",
   "nbconvert_exporter": "python",
   "pygments_lexer": "ipython3",
   "version": "3.9.18"
  }
 },
 "nbformat": 4,
 "nbformat_minor": 2
}
