{
 "cells": [
  {
   "cell_type": "code",
   "execution_count": 19,
   "metadata": {},
   "outputs": [],
   "source": [
    "import geopandas \n",
    "import fiona\n",
    "import glob\n",
    "import shapely"
   ]
  },
  {
   "cell_type": "code",
   "execution_count": 21,
   "metadata": {},
   "outputs": [],
   "source": [
    "all_shps = glob.glob('/home/travis/data/shp/NA/*reach*.shp')"
   ]
  },
  {
   "cell_type": "code",
   "execution_count": 22,
   "metadata": {},
   "outputs": [],
   "source": [
    "gdf = geopandas.read_file(all_shps[0])"
   ]
  },
  {
   "cell_type": "code",
   "execution_count": 23,
   "metadata": {},
   "outputs": [],
   "source": [
    "all_lines = gdf['geometry']"
   ]
  },
  {
   "cell_type": "code",
   "execution_count": 60,
   "metadata": {},
   "outputs": [
    {
     "data": {
      "text/plain": [
       "Index(['x', 'y', 'reach_id', 'reach_len', 'n_nodes', 'wse', 'wse_var', 'width',\n",
       "       'width_var', 'facc', 'n_chan_max', 'n_chan_mod', 'obstr_type',\n",
       "       'grod_id', 'hfalls_id', 'slope', 'dist_out', 'lakeflag', 'max_width',\n",
       "       'n_rch_up', 'n_rch_dn', 'rch_id_up', 'rch_id_dn', 'swot_orbit',\n",
       "       'swot_obs', 'type', 'river_name', 'edit_flag', 'trib_flag', 'geometry'],\n",
       "      dtype='object')"
      ]
     },
     "execution_count": 60,
     "metadata": {},
     "output_type": "execute_result"
    }
   ],
   "source": [
    "gdf.keys()"
   ]
  },
  {
   "cell_type": "code",
   "execution_count": 100,
   "metadata": {},
   "outputs": [],
   "source": [
    "coord_list = [(x,y) for x,y in zip(gdf.x , gdf.y)]"
   ]
  },
  {
   "cell_type": "markdown",
   "metadata": {},
   "source": []
  },
  {
   "cell_type": "code",
   "execution_count": 101,
   "metadata": {},
   "outputs": [],
   "source": [
    "multi = shapely.MultiLineString(list(all_lines))"
   ]
  },
  {
   "cell_type": "code",
   "execution_count": 102,
   "metadata": {},
   "outputs": [],
   "source": [
    "from shapely.wkt import loads\n",
    "\n",
    "from shapely.geometry import mapping\n",
    "# schema of the resulting shapefile\n",
    "schema = {'geometry': 'MultiLineString','properties': {'id': 'int'}}"
   ]
  },
  {
   "cell_type": "code",
   "execution_count": 103,
   "metadata": {},
   "outputs": [],
   "source": [
    "with fiona.open('multiline.shp', 'w', 'ESRI Shapefile', schema)  as output:\n",
    "     output.write({'geometry':mapping(multi),'properties': {'id':1}})"
   ]
  },
  {
   "cell_type": "code",
   "execution_count": 115,
   "metadata": {},
   "outputs": [
    {
     "data": {
      "text/plain": [
       "42.42625265008721"
      ]
     },
     "execution_count": 115,
     "metadata": {},
     "output_type": "execute_result"
    }
   ],
   "source": []
  },
  {
   "cell_type": "code",
   "execution_count": 126,
   "metadata": {},
   "outputs": [
    {
     "name": "stdout",
     "output_type": "stream",
     "text": [
      "[-124.41757328085573, 42.42625265008721]\n"
     ]
    }
   ],
   "source": [
    "from pystac_client import Client  \n",
    "STAC_URL = 'https://cmr.earthdata.nasa.gov/stac'\n",
    "catalog = Client(id='SWOT', description='Searching for tiles under insitue measurments for the NASA/SWOT project').open(f'{STAC_URL}/LPCLOUD/')\n",
    "# point = geopandas.points_from_xy(coord_list[0][0], coord_list[0][1])\n",
    "# point = point[0]\n",
    "print(point)\n",
    "collections = ['HLSL30.v2.0', 'HLSS30.v2.0']\n",
    "# search = catalog.search(\n",
    "#     collections=collections, intersects = gdf['geometry'].head())\n",
    "search = catalog.search(\n",
    "    collections=collections, intersects = gdf['geometry'].head())\n",
    "\n"
   ]
  },
  {
   "cell_type": "code",
   "execution_count": 127,
   "metadata": {},
   "outputs": [
    {
     "name": "stderr",
     "output_type": "stream",
     "text": [
      "/home/travis/.conda/envs/django/lib/python3.11/site-packages/pystac_client/item_search.py:850: FutureWarning: get_all_items() is deprecated, use item_collection() instead.\n",
      "  warnings.warn(\n"
     ]
    },
    {
     "ename": "APIError",
     "evalue": "{\"message\":\"If the problem persists please contact cmr-support@earthdata.nasa.gov\",\"errors\":[\"An unexpected error occurred. We have been alerted and are working to resolve the problem.\",\"Unsupported Geometry type FeatureCollection\"]}",
     "output_type": "error",
     "traceback": [
      "\u001b[0;31m---------------------------------------------------------------------------\u001b[0m",
      "\u001b[0;31mAPIError\u001b[0m                                  Traceback (most recent call last)",
      "\u001b[1;32m/home/travis/repos/ssc_model_deployment/combine_shps.ipynb Cell 13\u001b[0m line \u001b[0;36m1\n\u001b[0;32m----> <a href='vscode-notebook-cell://wsl%2Bubuntu/home/travis/repos/ssc_model_deployment/combine_shps.ipynb#X32sdnNjb2RlLXJlbW90ZQ%3D%3D?line=0'>1</a>\u001b[0m item_collection \u001b[39m=\u001b[39m search\u001b[39m.\u001b[39mget_all_items();item_collection\n",
      "File \u001b[0;32m~/.conda/envs/django/lib/python3.11/site-packages/pystac_client/item_search.py:854\u001b[0m, in \u001b[0;36mItemSearch.get_all_items\u001b[0;34m(self)\u001b[0m\n\u001b[1;32m    842\u001b[0m \u001b[39m\u001b[39m\u001b[39m\"\"\"DEPRECATED\u001b[39;00m\n\u001b[1;32m    843\u001b[0m \n\u001b[1;32m    844\u001b[0m \u001b[39m.. deprecated:: 0.4.0\u001b[39;00m\n\u001b[0;32m   (...)\u001b[0m\n\u001b[1;32m    848\u001b[0m \u001b[39m    item_collection : ItemCollection\u001b[39;00m\n\u001b[1;32m    849\u001b[0m \u001b[39m\"\"\"\u001b[39;00m\n\u001b[1;32m    850\u001b[0m warnings\u001b[39m.\u001b[39mwarn(\n\u001b[1;32m    851\u001b[0m     \u001b[39m\"\u001b[39m\u001b[39mget_all_items() is deprecated, use item_collection() instead.\u001b[39m\u001b[39m\"\u001b[39m,\n\u001b[1;32m    852\u001b[0m     \u001b[39mFutureWarning\u001b[39;00m,\n\u001b[1;32m    853\u001b[0m )\n\u001b[0;32m--> 854\u001b[0m \u001b[39mreturn\u001b[39;00m \u001b[39mself\u001b[39;49m\u001b[39m.\u001b[39;49mitem_collection()\n",
      "File \u001b[0;32m~/.conda/envs/django/lib/python3.11/site-packages/pystac_client/item_search.py:765\u001b[0m, in \u001b[0;36mItemSearch.item_collection\u001b[0;34m(self)\u001b[0m\n\u001b[1;32m    757\u001b[0m \u001b[39m\u001b[39m\u001b[39m\"\"\"\u001b[39;00m\n\u001b[1;32m    758\u001b[0m \u001b[39mGet the matching items as a :py:class:`pystac.ItemCollection`.\u001b[39;00m\n\u001b[1;32m    759\u001b[0m \n\u001b[1;32m    760\u001b[0m \u001b[39mReturn:\u001b[39;00m\n\u001b[1;32m    761\u001b[0m \u001b[39m    ItemCollection: The item collection\u001b[39;00m\n\u001b[1;32m    762\u001b[0m \u001b[39m\"\"\"\u001b[39;00m\n\u001b[1;32m    763\u001b[0m \u001b[39m# Bypass the cache here, so that we can pass __preserve_dict__\u001b[39;00m\n\u001b[1;32m    764\u001b[0m \u001b[39m# without mutating what's in the cache.\u001b[39;00m\n\u001b[0;32m--> 765\u001b[0m feature_collection \u001b[39m=\u001b[39m \u001b[39mself\u001b[39;49m\u001b[39m.\u001b[39;49mitem_collection_as_dict\u001b[39m.\u001b[39;49m__wrapped__(\u001b[39mself\u001b[39;49m)\n\u001b[1;32m    766\u001b[0m \u001b[39m# already signed in item_collection_as_dict\u001b[39;00m\n\u001b[1;32m    767\u001b[0m \u001b[39mreturn\u001b[39;00m ItemCollection\u001b[39m.\u001b[39mfrom_dict(\n\u001b[1;32m    768\u001b[0m     feature_collection, preserve_dict\u001b[39m=\u001b[39m\u001b[39mFalse\u001b[39;00m, root\u001b[39m=\u001b[39m\u001b[39mself\u001b[39m\u001b[39m.\u001b[39mclient\n\u001b[1;32m    769\u001b[0m )\n",
      "File \u001b[0;32m~/.conda/envs/django/lib/python3.11/site-packages/pystac_client/item_search.py:786\u001b[0m, in \u001b[0;36mItemSearch.item_collection_as_dict\u001b[0;34m(self)\u001b[0m\n\u001b[1;32m    773\u001b[0m \u001b[39m\u001b[39m\u001b[39m\"\"\"\u001b[39;00m\n\u001b[1;32m    774\u001b[0m \u001b[39mGet the matching items as an item-collection-like dict.\u001b[39;00m\n\u001b[1;32m    775\u001b[0m \n\u001b[0;32m   (...)\u001b[0m\n\u001b[1;32m    783\u001b[0m \u001b[39m    Dict : A GeoJSON FeatureCollection\u001b[39;00m\n\u001b[1;32m    784\u001b[0m \u001b[39m\"\"\"\u001b[39;00m\n\u001b[1;32m    785\u001b[0m features \u001b[39m=\u001b[39m []\n\u001b[0;32m--> 786\u001b[0m \u001b[39mfor\u001b[39;00m page \u001b[39min\u001b[39;00m \u001b[39mself\u001b[39m\u001b[39m.\u001b[39mpages_as_dicts():\n\u001b[1;32m    787\u001b[0m     \u001b[39mfor\u001b[39;00m feature \u001b[39min\u001b[39;00m page[\u001b[39m\"\u001b[39m\u001b[39mfeatures\u001b[39m\u001b[39m\"\u001b[39m]:\n\u001b[1;32m    788\u001b[0m         features\u001b[39m.\u001b[39mappend(feature)\n",
      "File \u001b[0;32m~/.conda/envs/django/lib/python3.11/site-packages/pystac_client/item_search.py:736\u001b[0m, in \u001b[0;36mItemSearch.pages_as_dicts\u001b[0;34m(self)\u001b[0m\n\u001b[1;32m    734\u001b[0m \u001b[39mif\u001b[39;00m \u001b[39misinstance\u001b[39m(\u001b[39mself\u001b[39m\u001b[39m.\u001b[39m_stac_io, StacApiIO):\n\u001b[1;32m    735\u001b[0m     num_items \u001b[39m=\u001b[39m \u001b[39m0\u001b[39m\n\u001b[0;32m--> 736\u001b[0m     \u001b[39mfor\u001b[39;00m page \u001b[39min\u001b[39;00m \u001b[39mself\u001b[39m\u001b[39m.\u001b[39m_stac_io\u001b[39m.\u001b[39mget_pages(\n\u001b[1;32m    737\u001b[0m         \u001b[39mself\u001b[39m\u001b[39m.\u001b[39murl, \u001b[39mself\u001b[39m\u001b[39m.\u001b[39mmethod, \u001b[39mself\u001b[39m\u001b[39m.\u001b[39mget_parameters()\n\u001b[1;32m    738\u001b[0m     ):\n\u001b[1;32m    739\u001b[0m         call_modifier(\u001b[39mself\u001b[39m\u001b[39m.\u001b[39mmodifier, page)\n\u001b[1;32m    740\u001b[0m         features \u001b[39m=\u001b[39m page\u001b[39m.\u001b[39mget(\u001b[39m\"\u001b[39m\u001b[39mfeatures\u001b[39m\u001b[39m\"\u001b[39m, [])\n",
      "File \u001b[0;32m~/.conda/envs/django/lib/python3.11/site-packages/pystac_client/stac_api_io.py:294\u001b[0m, in \u001b[0;36mStacApiIO.get_pages\u001b[0;34m(self, url, method, parameters)\u001b[0m\n\u001b[1;32m    282\u001b[0m \u001b[39mdef\u001b[39;00m \u001b[39mget_pages\u001b[39m(\n\u001b[1;32m    283\u001b[0m     \u001b[39mself\u001b[39m,\n\u001b[1;32m    284\u001b[0m     url: \u001b[39mstr\u001b[39m,\n\u001b[1;32m    285\u001b[0m     method: Optional[\u001b[39mstr\u001b[39m] \u001b[39m=\u001b[39m \u001b[39mNone\u001b[39;00m,\n\u001b[1;32m    286\u001b[0m     parameters: Optional[Dict[\u001b[39mstr\u001b[39m, Any]] \u001b[39m=\u001b[39m \u001b[39mNone\u001b[39;00m,\n\u001b[1;32m    287\u001b[0m ) \u001b[39m-\u001b[39m\u001b[39m>\u001b[39m Iterator[Dict[\u001b[39mstr\u001b[39m, Any]]:\n\u001b[1;32m    288\u001b[0m \u001b[39m    \u001b[39m\u001b[39m\"\"\"Iterator that yields dictionaries for each page at a STAC paging\u001b[39;00m\n\u001b[1;32m    289\u001b[0m \u001b[39m    endpoint, e.g., /collections, /search\u001b[39;00m\n\u001b[1;32m    290\u001b[0m \n\u001b[1;32m    291\u001b[0m \u001b[39m    Return:\u001b[39;00m\n\u001b[1;32m    292\u001b[0m \u001b[39m        Dict[str, Any] : JSON content from a single page\u001b[39;00m\n\u001b[1;32m    293\u001b[0m \u001b[39m    \"\"\"\u001b[39;00m\n\u001b[0;32m--> 294\u001b[0m     page \u001b[39m=\u001b[39m \u001b[39mself\u001b[39;49m\u001b[39m.\u001b[39;49mread_json(url, method\u001b[39m=\u001b[39;49mmethod, parameters\u001b[39m=\u001b[39;49mparameters)\n\u001b[1;32m    295\u001b[0m     \u001b[39mif\u001b[39;00m \u001b[39mnot\u001b[39;00m (page\u001b[39m.\u001b[39mget(\u001b[39m\"\u001b[39m\u001b[39mfeatures\u001b[39m\u001b[39m\"\u001b[39m) \u001b[39mor\u001b[39;00m page\u001b[39m.\u001b[39mget(\u001b[39m\"\u001b[39m\u001b[39mcollections\u001b[39m\u001b[39m\"\u001b[39m)):\n\u001b[1;32m    296\u001b[0m         \u001b[39mreturn\u001b[39;00m \u001b[39mNone\u001b[39;00m\n",
      "File \u001b[0;32m~/.conda/envs/django/lib/python3.11/site-packages/pystac/stac_io.py:205\u001b[0m, in \u001b[0;36mStacIO.read_json\u001b[0;34m(self, source, *args, **kwargs)\u001b[0m\n\u001b[1;32m    188\u001b[0m \u001b[39mdef\u001b[39;00m \u001b[39mread_json\u001b[39m(\u001b[39mself\u001b[39m, source: HREF, \u001b[39m*\u001b[39margs: Any, \u001b[39m*\u001b[39m\u001b[39m*\u001b[39mkwargs: Any) \u001b[39m-\u001b[39m\u001b[39m>\u001b[39m \u001b[39mdict\u001b[39m[\u001b[39mstr\u001b[39m, Any]:\n\u001b[1;32m    189\u001b[0m \u001b[39m    \u001b[39m\u001b[39m\"\"\"Read a dict from the given source.\u001b[39;00m\n\u001b[1;32m    190\u001b[0m \n\u001b[1;32m    191\u001b[0m \u001b[39m    See :func:`StacIO.read_text <pystac.StacIO.read_text>` for usage of\u001b[39;00m\n\u001b[0;32m   (...)\u001b[0m\n\u001b[1;32m    203\u001b[0m \u001b[39m        given source.\u001b[39;00m\n\u001b[1;32m    204\u001b[0m \u001b[39m    \"\"\"\u001b[39;00m\n\u001b[0;32m--> 205\u001b[0m     txt \u001b[39m=\u001b[39m \u001b[39mself\u001b[39;49m\u001b[39m.\u001b[39;49mread_text(source, \u001b[39m*\u001b[39;49margs, \u001b[39m*\u001b[39;49m\u001b[39m*\u001b[39;49mkwargs)\n\u001b[1;32m    206\u001b[0m     \u001b[39mreturn\u001b[39;00m \u001b[39mself\u001b[39m\u001b[39m.\u001b[39mjson_loads(txt)\n",
      "File \u001b[0;32m~/.conda/envs/django/lib/python3.11/site-packages/pystac_client/stac_api_io.py:168\u001b[0m, in \u001b[0;36mStacApiIO.read_text\u001b[0;34m(self, source, *args, **kwargs)\u001b[0m\n\u001b[1;32m    166\u001b[0m href \u001b[39m=\u001b[39m \u001b[39mstr\u001b[39m(source)\n\u001b[1;32m    167\u001b[0m \u001b[39mif\u001b[39;00m _is_url(href):\n\u001b[0;32m--> 168\u001b[0m     \u001b[39mreturn\u001b[39;00m \u001b[39mself\u001b[39;49m\u001b[39m.\u001b[39;49mrequest(href, \u001b[39m*\u001b[39;49margs, \u001b[39m*\u001b[39;49m\u001b[39m*\u001b[39;49mkwargs)\n\u001b[1;32m    169\u001b[0m \u001b[39melse\u001b[39;00m:\n\u001b[1;32m    170\u001b[0m     \u001b[39mwith\u001b[39;00m \u001b[39mopen\u001b[39m(href) \u001b[39mas\u001b[39;00m f:\n",
      "File \u001b[0;32m~/.conda/envs/django/lib/python3.11/site-packages/pystac_client/stac_api_io.py:217\u001b[0m, in \u001b[0;36mStacApiIO.request\u001b[0;34m(self, href, method, headers, parameters)\u001b[0m\n\u001b[1;32m    215\u001b[0m     \u001b[39mraise\u001b[39;00m APIError(\u001b[39mstr\u001b[39m(err))\n\u001b[1;32m    216\u001b[0m \u001b[39mif\u001b[39;00m resp\u001b[39m.\u001b[39mstatus_code \u001b[39m!=\u001b[39m \u001b[39m200\u001b[39m:\n\u001b[0;32m--> 217\u001b[0m     \u001b[39mraise\u001b[39;00m APIError\u001b[39m.\u001b[39mfrom_response(resp)\n\u001b[1;32m    218\u001b[0m \u001b[39mtry\u001b[39;00m:\n\u001b[1;32m    219\u001b[0m     \u001b[39mreturn\u001b[39;00m resp\u001b[39m.\u001b[39mcontent\u001b[39m.\u001b[39mdecode(\u001b[39m\"\u001b[39m\u001b[39mutf-8\u001b[39m\u001b[39m\"\u001b[39m)\n",
      "\u001b[0;31mAPIError\u001b[0m: {\"message\":\"If the problem persists please contact cmr-support@earthdata.nasa.gov\",\"errors\":[\"An unexpected error occurred. We have been alerted and are working to resolve the problem.\",\"Unsupported Geometry type FeatureCollection\"]}"
     ]
    }
   ],
   "source": [
    "item_collection = search.get_all_items();item_collection"
   ]
  },
  {
   "cell_type": "code",
   "execution_count": null,
   "metadata": {},
   "outputs": [],
   "source": []
  },
  {
   "cell_type": "code",
   "execution_count": 69,
   "metadata": {},
   "outputs": [],
   "source": [
    "\n",
    "from cmr import CollectionQuery, GranuleQuery\n",
    "api = GranuleQuery()"
   ]
  },
  {
   "cell_type": "code",
   "execution_count": 70,
   "metadata": {},
   "outputs": [
    {
     "name": "stdout",
     "output_type": "stream",
     "text": [
      "(-124.41757328085573, 42.42625265008721)\n"
     ]
    }
   ],
   "source": [
    "print(coord_list[0])"
   ]
  },
  {
   "cell_type": "code",
   "execution_count": null,
   "metadata": {},
   "outputs": [],
   "source": []
  },
  {
   "cell_type": "code",
   "execution_count": 97,
   "metadata": {},
   "outputs": [],
   "source": [
    "collection = api.parameters(\n",
    "    short_name=\"'HLSL30.v2.0'\",\n",
    "    line=[i for i in coord_list[:10]]\n",
    ")"
   ]
  },
  {
   "cell_type": "code",
   "execution_count": 98,
   "metadata": {},
   "outputs": [],
   "source": [
    "granules = api.get(100)"
   ]
  },
  {
   "cell_type": "code",
   "execution_count": 99,
   "metadata": {},
   "outputs": [
    {
     "data": {
      "text/plain": [
       "[]"
      ]
     },
     "execution_count": 99,
     "metadata": {},
     "output_type": "execute_result"
    }
   ],
   "source": [
    "granules"
   ]
  },
  {
   "cell_type": "code",
   "execution_count": 92,
   "metadata": {},
   "outputs": [
    {
     "ename": "IndexError",
     "evalue": "list index out of range",
     "output_type": "error",
     "traceback": [
      "\u001b[0;31m---------------------------------------------------------------------------\u001b[0m",
      "\u001b[0;31mIndexError\u001b[0m                                Traceback (most recent call last)",
      "\u001b[1;32m/home/travis/repos/ssc_model_deployment/combine_shps.ipynb Cell 17\u001b[0m line \u001b[0;36m1\n\u001b[0;32m----> <a href='vscode-notebook-cell://wsl%2Bubuntu/home/travis/repos/ssc_model_deployment/combine_shps.ipynb#X16sdnNjb2RlLXJlbW90ZQ%3D%3D?line=0'>1</a>\u001b[0m granules[\u001b[39m0\u001b[39;49m][\u001b[39m'\u001b[39m\u001b[39mlinks\u001b[39m\u001b[39m'\u001b[39m][\u001b[39m0\u001b[39m][\u001b[39m'\u001b[39m\u001b[39mhref\u001b[39m\u001b[39m'\u001b[39m]\n",
      "\u001b[0;31mIndexError\u001b[0m: list index out of range"
     ]
    }
   ],
   "source": [
    "granules[0]['links'][0]['href']"
   ]
  },
  {
   "cell_type": "code",
   "execution_count": null,
   "metadata": {},
   "outputs": [],
   "source": []
  }
 ],
 "metadata": {
  "kernelspec": {
   "display_name": "django",
   "language": "python",
   "name": "python3"
  },
  "language_info": {
   "codemirror_mode": {
    "name": "ipython",
    "version": 3
   },
   "file_extension": ".py",
   "mimetype": "text/x-python",
   "name": "python",
   "nbconvert_exporter": "python",
   "pygments_lexer": "ipython3",
   "version": "3.11.5"
  },
  "orig_nbformat": 4
 },
 "nbformat": 4,
 "nbformat_minor": 2
}
